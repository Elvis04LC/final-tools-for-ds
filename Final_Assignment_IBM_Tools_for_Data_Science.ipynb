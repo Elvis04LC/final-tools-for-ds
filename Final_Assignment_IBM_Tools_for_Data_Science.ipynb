{
 "cells": [
  {
   "cell_type": "markdown",
   "id": "2d6e5774",
   "metadata": {},
   "source": [
    "\n",
    "# Data Science Tools and Ecosystem\n"
   ]
  },
  {
   "cell_type": "markdown",
   "id": "7097ac76",
   "metadata": {},
   "source": [
    "\n",
    "## Introduction\n",
    "This notebook summarizes core concepts and tooling from the *Tools for Data Science* course. You will find lists of common data science languages and libraries, a short table of tools, and a few simple arithmetic examples implemented in Python.\n"
   ]
  },
  {
   "cell_type": "markdown",
   "id": "5bf2f5e5",
   "metadata": {},
   "source": [
    "\n",
    "## Data Science Languages\n",
    "Below is an ordered list of popular languages used in data science:\n",
    "\n",
    "1. Python  \n",
    "2. R  \n",
    "3. SQL  \n",
    "4. Scala  \n",
    "5. Julia  \n",
    "6. Java\n"
   ]
  },
  {
   "cell_type": "markdown",
   "id": "c628159f",
   "metadata": {},
   "source": [
    "\n",
    "## Data Science Libraries\n",
    "Here is an ordered list of common data science libraries:\n",
    "\n",
    "1. **Pandas** – data manipulation with DataFrames  \n",
    "2. **NumPy** – numerical computing with n-dimensional arrays  \n",
    "3. **Matplotlib** – basic plotting library  \n",
    "4. **Seaborn** – statistical data visualization  \n",
    "5. **scikit-learn** – machine learning (classification, regression, clustering)  \n",
    "6. **TensorFlow** – deep learning framework  \n",
    "7. **Keras** – high-level neural network API  \n",
    "8. **ggplot2** (R) – grammar of graphics for plots  \n",
    "9. **dplyr** (R) – grammar of data manipulation  \n",
    "10. **caret** (R) – classification and regression training\n"
   ]
  },
  {
   "cell_type": "markdown",
   "id": "d0a89070",
   "metadata": {},
   "source": [
    "\n",
    "## Table of Data Science Tools\n",
    "| Category            | Tool / Platform | Brief Description                                  |\n",
    "|---------------------|------------------|----------------------------------------------------|\n",
    "| Notebook/IDE        | JupyterLab       | Web-based environment for notebooks and code       |\n",
    "| Orchestration (ETL) | Apache Airflow   | Author, schedule, and monitor data pipelines       |\n",
    "| Big Data / Compute  | Apache Spark     | Distributed processing for large-scale analytics   |\n",
    "| Databases           | PostgreSQL       | Open-source relational database                     |\n",
    "| Visualization       | Tableau          | Interactive dashboards and BI                      |\n",
    "| ML / Analytics      | scikit-learn     | Machine learning library for Python                |\n"
   ]
  },
  {
   "cell_type": "markdown",
   "id": "e363c894",
   "metadata": {},
   "source": [
    "\n",
    "## Examples of Evaluating Arithmetic Expressions\n",
    "In the next cells we demonstrate simple multiplication, addition, and a conversion from minutes to hours.\n"
   ]
  },
  {
   "cell_type": "code",
   "execution_count": null,
   "id": "c21659d5",
   "metadata": {},
   "outputs": [
    {
     "name": "stdout",
     "output_type": "stream",
     "text": [
      "6 * 7 = 42\n",
      "15 + 27 = 42\n"
     ]
    }
   ],
   "source": [
    "\n",
    "# Multiply and add integers\n",
    "a = 6 * 7\n",
    "b = 15 + 27\n",
    "print(\"6 * 7 =\", a)\n",
    "print(\"15 + 27 =\", b)\n"
   ]
  },
  {
   "cell_type": "code",
   "execution_count": null,
   "id": "efcddf8d",
   "metadata": {},
   "outputs": [
    {
     "name": "stdout",
     "output_type": "stream",
     "text": [
      "200 minutes = 3 hour(s) and 20 minute(s)\n"
     ]
    }
   ],
   "source": [
    "\n",
    "# Convert minutes to hours (and minutes)\n",
    "total_minutes = 200\n",
    "hours = total_minutes // 60\n",
    "minutes = total_minutes % 60\n",
    "print(f\"{total_minutes} minutes = {hours} hour(s) and {minutes} minute(s)\")\n"
   ]
  },
  {
   "cell_type": "markdown",
   "id": "77020ddc",
   "metadata": {},
   "source": [
    "\n",
    "## Objectives\n",
    "- List commonly used **data science languages**  \n",
    "- List commonly used **data science libraries**  \n",
    "- Create a **table of tools** used by data scientists  \n",
    "- Demonstrate **arithmetic expressions** in Python code cells  \n",
    "- Practice **notebook authoring** and **GitHub sharing**\n"
   ]
  },
  {
   "cell_type": "markdown",
   "id": "8dde98f5",
   "metadata": {},
   "source": [
    "\n",
    "## Author\n",
    "**Elvis Larico Chávez**\n"
   ]
  },
  {
   "cell_type": "markdown",
   "id": "1ad02bd4",
   "metadata": {},
   "source": [
    "\n",
    "## Share This Notebook (GitHub URL)\n",
    "Once you push this notebook to a **public GitHub repository**, paste the public URL here (for Exercise 12).  \n",
    "*Example:* `https://github.com/<your-username>/<your-repo>/blob/main/Data_Science_Tools_and_Ecosystem.ipynb`\n"
   ]
  }
 ],
 "metadata": {},
 "nbformat": 4,
 "nbformat_minor": 5
}
